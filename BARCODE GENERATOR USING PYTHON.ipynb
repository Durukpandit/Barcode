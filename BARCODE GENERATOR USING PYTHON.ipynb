{
 "cells": [
  {
   "cell_type": "code",
   "execution_count": 1,
   "id": "982c5ec7",
   "metadata": {},
   "outputs": [],
   "source": [
    "from barcode import EAN13"
   ]
  },
  {
   "cell_type": "code",
   "execution_count": 2,
   "id": "fe83155b",
   "metadata": {},
   "outputs": [],
   "source": [
    "from barcode.writer import ImageWriter\n"
   ]
  },
  {
   "cell_type": "code",
   "execution_count": 3,
   "id": "d421b887",
   "metadata": {},
   "outputs": [
    {
     "data": {
      "text/plain": [
       "'Bar_code.png'"
      ]
     },
     "execution_count": 3,
     "metadata": {},
     "output_type": "execute_result"
    }
   ],
   "source": [
    "number=\"5901234123457\"\n",
    "my_code=EAN13(number,writer=ImageWriter())\n",
    "my_code.save(\"Bar_code\")"
   ]
  },
  {
   "cell_type": "code",
   "execution_count": null,
   "id": "17aae5a3",
   "metadata": {},
   "outputs": [],
   "source": []
  }
 ],
 "metadata": {
  "kernelspec": {
   "display_name": "Python 3",
   "language": "python",
   "name": "python3"
  },
  "language_info": {
   "codemirror_mode": {
    "name": "ipython",
    "version": 3
   },
   "file_extension": ".py",
   "mimetype": "text/x-python",
   "name": "python",
   "nbconvert_exporter": "python",
   "pygments_lexer": "ipython3",
   "version": "3.8.8"
  }
 },
 "nbformat": 4,
 "nbformat_minor": 5
}
